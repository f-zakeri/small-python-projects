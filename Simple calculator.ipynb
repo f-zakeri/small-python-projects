{
 "cells": [
  {
   "cell_type": "code",
   "execution_count": 31,
   "id": "f27b54a8-fe0a-4d1f-95e3-0fa603fc72a4",
   "metadata": {},
   "outputs": [
    {
     "name": "stdout",
     "output_type": "stream",
     "text": [
      "=== Welcome to your Interactive Python Calculator ===\n"
     ]
    },
    {
     "name": "stdin",
     "output_type": "stream",
     "text": [
      "please type first number:  6\n",
      "please type second number:  2\n",
      "Great! Now enter the number for operation. These are the numbers for operations:1 - Addition 2 - Subtraction 3 - Multiplication 4 - Division 5 - Integer Division 6 - Modulo 5\n"
     ]
    },
    {
     "name": "stdout",
     "output_type": "stream",
     "text": [
      "The result of 6 % 2 is: 0\n"
     ]
    }
   ],
   "source": [
    "print(\"=== Welcome to your Interactive Python Calculator ===\")\n",
    "\n",
    "a = int(input(\"please type first number: \"))\n",
    "b = int(input(\"please type second number: \"))\n",
    "Operation = input(\"Great! Now enter the number for operation. These are the numbers for operations:1 - Addition 2 - Subtraction 3 - Multiplication 4 - Division 5 - Integer Division 6 - Modulo\")\n",
    "\n",
    "if Operation == \"1\":\n",
    "    Add = a + b\n",
    "    print(f\"The result of {a} + {b} is: {Add}\")\n",
    "\n",
    "elif Operation == \"2\":\n",
    "    Sub = a - b\n",
    "    print(f\"The result of {a} - {b} is: {Sub}\")\n",
    "\n",
    "elif Operation == \"3\":\n",
    "    Mul = a * b\n",
    "    print(f\"The result of {a} * {b} is: {Mul}\")\n",
    "\n",
    "elif Operation == \"4\":\n",
    "    if b == 0:\n",
    "        print(\"Division be zero, please enter another value for b\")\n",
    "    else:\n",
    "        Div = a / b\n",
    "        print(f\"The result of {a} / {b} is: {Div}\")\n",
    "elif Operation == \"5\":\n",
    "    mod = a % b\n",
    "    print(f\"The result of {a} % {b} is: {mod}\")\n",
    "    \n",
    "else:\n",
    "    print(\"please choose a valid number for operation\")\n",
    "\n",
    "    \n",
    "\n"
   ]
  },
  {
   "cell_type": "code",
   "execution_count": null,
   "id": "6ab1d2ca-d78a-4210-9fa1-91431d9e18fa",
   "metadata": {},
   "outputs": [],
   "source": [
    "\n"
   ]
  }
 ],
 "metadata": {
  "kernelspec": {
   "display_name": "Python [conda env:base] *",
   "language": "python",
   "name": "conda-base-py"
  },
  "language_info": {
   "codemirror_mode": {
    "name": "ipython",
    "version": 3
   },
   "file_extension": ".py",
   "mimetype": "text/x-python",
   "name": "python",
   "nbconvert_exporter": "python",
   "pygments_lexer": "ipython3",
   "version": "3.12.7"
  }
 },
 "nbformat": 4,
 "nbformat_minor": 5
}
