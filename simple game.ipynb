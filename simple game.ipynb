{
 "cells": [
  {
   "cell_type": "code",
   "execution_count": 45,
   "id": "d3eeb7cb-73ae-4a89-9da8-29395850c3dd",
   "metadata": {},
   "outputs": [
    {
     "name": "stdout",
     "output_type": "stream",
     "text": [
      "====== Welcome to the game ======\n"
     ]
    },
    {
     "name": "stdin",
     "output_type": "stream",
     "text": [
      "Please enter Rock, Paper, or Scissors below:  paper\n"
     ]
    },
    {
     "name": "stdout",
     "output_type": "stream",
     "text": [
      "You lose! Your opponent chose 'Scissors'\n"
     ]
    }
   ],
   "source": [
    "print(\"====== Welcome to the game ======\")\n",
    "import random\n",
    "options = (\"rock\",\"paper\",\"scissors\")\n",
    "computer = options[random.randint(0, 2)]\n",
    "player = (input(\"Please enter Rock, Paper, or Scissors below: \").lower())\n",
    "\n",
    "if player == \"computer\":\n",
    "    print(\"It's a tie! Try again!\")\n",
    "\n",
    "elif player == \"rock\":\n",
    "    if computer == \"paper\":\n",
    "        print(\"You lose! Your opponent chose 'Paper'\")\n",
    "    else:\n",
    "        print(\"You win! Your opponent chose 'Scissors'\")\n",
    "        \n",
    "elif player == \"paper\":\n",
    "    if computer == \"scissors\":\n",
    "        print(\"You lose! Your opponent chose 'Scissors'\")\n",
    "    else:\n",
    "        print(\"You win! Your opponent chose 'Rock'\")\n",
    "\n",
    "elif player == \"scissors\":\n",
    "    if computer == \"rock\":\n",
    "        print(\"You lose! Your opponent chose 'Rock'\")\n",
    "    else:\n",
    "        print(\"You win! Your opponent chose 'Paper'\")\n",
    "\n",
    "else:\n",
    "    print(\"please enter a valid option\")\n"
   ]
  },
  {
   "cell_type": "code",
   "execution_count": null,
   "id": "62cb8ad6-63df-4505-b181-f136c9c90562",
   "metadata": {},
   "outputs": [],
   "source": []
  }
 ],
 "metadata": {
  "kernelspec": {
   "display_name": "Python [conda env:base] *",
   "language": "python",
   "name": "conda-base-py"
  },
  "language_info": {
   "codemirror_mode": {
    "name": "ipython",
    "version": 3
   },
   "file_extension": ".py",
   "mimetype": "text/x-python",
   "name": "python",
   "nbconvert_exporter": "python",
   "pygments_lexer": "ipython3",
   "version": "3.12.7"
  }
 },
 "nbformat": 4,
 "nbformat_minor": 5
}
