{
 "cells": [
  {
   "cell_type": "code",
   "execution_count": 21,
   "id": "8abf8b47-a664-4af0-9932-c363e1bb372d",
   "metadata": {},
   "outputs": [
    {
     "name": "stdout",
     "output_type": "stream",
     "text": [
      "Welcome to the Body Mass Index Calculator\n"
     ]
    },
    {
     "name": "stdin",
     "output_type": "stream",
     "text": [
      "please enter your height in centimeters:  166\n",
      "please enter your weight in kilograms:  50\n"
     ]
    },
    {
     "name": "stdout",
     "output_type": "stream",
     "text": [
      "your Body Mass Index = 18.14 and you are Underweight\n"
     ]
    }
   ],
   "source": [
    "print(\"Welcome to the Body Mass Index Calculator\")\n",
    "\n",
    "Height = float(input('please enter your height in centimeters: '))\n",
    "Weight = float(input('please enter your weight in kilograms: '))\n",
    "if Height <= 0 or Weight <= 0:\n",
    "    print('please enter valid numbers')\n",
    "else:\n",
    "    height_in_meters = Height / 100\n",
    "    BMI = round(Weight / (height_in_meters ** 2), 2)\n",
    "    if BMI < 18.5:\n",
    "        print(f'your Body Mass Index = {BMI} and you are Underweight')\n",
    "    elif BMI > 18.5 and BMI < 24.9:\n",
    "        print(f'your Body Mass Index = {BMI} and you are Normal')\n",
    "    elif BMI > 25 and BMI < 29.9:\n",
    "        print(f'your Body Mass Index = {BMI} and you are Overweight')\n",
    "    else:\n",
    "        print(f'your Body Mass Index = {BMI} and you are Obesity')"
   ]
  },
  {
   "cell_type": "code",
   "execution_count": null,
   "id": "8e598764-9829-4c04-ba18-28603024a423",
   "metadata": {},
   "outputs": [],
   "source": []
  }
 ],
 "metadata": {
  "kernelspec": {
   "display_name": "Python [conda env:base] *",
   "language": "python",
   "name": "conda-base-py"
  },
  "language_info": {
   "codemirror_mode": {
    "name": "ipython",
    "version": 3
   },
   "file_extension": ".py",
   "mimetype": "text/x-python",
   "name": "python",
   "nbconvert_exporter": "python",
   "pygments_lexer": "ipython3",
   "version": "3.12.7"
  }
 },
 "nbformat": 4,
 "nbformat_minor": 5
}
